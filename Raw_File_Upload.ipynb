{
  "nbformat": 4,
  "nbformat_minor": 0,
  "metadata": {
    "colab": {
      "provenance": [],
      "mount_file_id": "1blM38Y_QZeEndABzvAI45tnLPq55n6hL",
      "authorship_tag": "ABX9TyN5QImCZCjqvUGkjXY2f63I",
      "include_colab_link": true
    },
    "kernelspec": {
      "name": "python3",
      "display_name": "Python 3"
    },
    "language_info": {
      "name": "python"
    }
  },
  "cells": [
    {
      "cell_type": "markdown",
      "metadata": {
        "id": "view-in-github",
        "colab_type": "text"
      },
      "source": [
        "<a href=\"https://colab.research.google.com/github/pedrofranke/E-commerce-Olist/blob/main/Raw_File_Upload.ipynb\" target=\"_parent\"><img src=\"https://colab.research.google.com/assets/colab-badge.svg\" alt=\"Open In Colab\"/></a>"
      ]
    },
    {
      "cell_type": "code",
      "execution_count": 6,
      "metadata": {
        "id": "Ok0jgGSvRhWa"
      },
      "outputs": [],
      "source": [
        "file1 = '/content/drive/MyDrive/Olist - Personal Project/Datasets/e-comerce_Olist_dataset.zip'"
      ]
    },
    {
      "cell_type": "code",
      "source": [
        "import pandas as pd\n",
        "import zipfile\n",
        "from google.cloud import storage\n",
        "from io import BytesIO"
      ],
      "metadata": {
        "id": "YGEjZ-3DRmcK"
      },
      "execution_count": 7,
      "outputs": []
    },
    {
      "cell_type": "code",
      "source": [
        "dataframes = {}\n",
        "\n",
        "with zipfile.ZipFile(file1, 'r') as zip_ref:\n",
        "    for file_name in zip_ref.namelist():\n",
        "        if file_name.endswith('.csv'):\n",
        "            with zip_ref.open(file_name) as file:\n",
        "                df = pd.read_csv(file)\n",
        "                file_name = file_name.replace('olist_','').replace('.csv','').replace('_dataset','')\n",
        "                dataframes.update({file_name:df})"
      ],
      "metadata": {
        "id": "tR8B7_WSRi2v"
      },
      "execution_count": 8,
      "outputs": []
    },
    {
      "cell_type": "code",
      "source": [
        "nombre_bucket = 'olist-project'\n",
        "\n",
        "ruta_json_credenciales = \"/content/olist-project-414920-ca53816de774.json\"\n",
        "\n",
        "client = storage.Client.from_service_account_json(ruta_json_credenciales)\n",
        "\n",
        "carpeta_en_bucket = 'initial_data'\n",
        "\n",
        "for nombre_archivo, dataframe in dataframes.items():\n",
        "    try:\n",
        "        csv_buffer = BytesIO()\n",
        "        dataframe.to_csv(csv_buffer, index=False)\n",
        "        csv_buffer.seek(0)\n",
        "\n",
        "        bucket = client.get_bucket(nombre_bucket)\n",
        "\n",
        "        nombre_blob = f'{carpeta_en_bucket}/{nombre_archivo}'\n",
        "        blob = bucket.blob(nombre_blob)\n",
        "        blob.upload_from_file(csv_buffer, content_type='text/csv')\n",
        "\n",
        "        print(f'Se cargó {nombre_archivo} a GCS en la carpeta \"{carpeta_en_bucket}\"')\n",
        "    except Exception as e:\n",
        "        print(f'Ocurrió un error al cargar {nombre_archivo} a GCS: {str(e)}')"
      ],
      "metadata": {
        "colab": {
          "base_uri": "https://localhost:8080/"
        },
        "id": "ekeabVPbR2-A",
        "outputId": "b653dce5-3bfa-4827-a3d7-1bd26eec228a"
      },
      "execution_count": 9,
      "outputs": [
        {
          "output_type": "stream",
          "name": "stdout",
          "text": [
            "Se cargó customers a GCS en la carpeta \"initial_data\"\n",
            "Se cargó geolocation a GCS en la carpeta \"initial_data\"\n",
            "Se cargó order_items a GCS en la carpeta \"initial_data\"\n",
            "Se cargó order_payments a GCS en la carpeta \"initial_data\"\n",
            "Se cargó order_reviews a GCS en la carpeta \"initial_data\"\n",
            "Se cargó orders a GCS en la carpeta \"initial_data\"\n",
            "Se cargó products a GCS en la carpeta \"initial_data\"\n",
            "Se cargó sellers a GCS en la carpeta \"initial_data\"\n",
            "Se cargó product_category_name_translation a GCS en la carpeta \"initial_data\"\n"
          ]
        }
      ]
    }
  ]
}